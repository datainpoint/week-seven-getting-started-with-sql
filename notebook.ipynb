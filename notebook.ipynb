{
 "cells": [
  {
   "cell_type": "code",
   "execution_count": 1,
   "id": "9d325898",
   "metadata": {},
   "outputs": [],
   "source": [
    "%LOAD sqlite3 db=imdb.db timeout=2 shared_cache=true"
   ]
  },
  {
   "cell_type": "code",
   "execution_count": 2,
   "id": "cad88397",
   "metadata": {},
   "outputs": [
    {
     "data": {
      "text/html": [
       "<table>\n",
       "<tr>\n",
       "<th>id</th>\n",
       "<th>title</th>\n",
       "<th>release_year</th>\n",
       "<th>rating</th>\n",
       "<th>director</th>\n",
       "<th>runtime</th>\n",
       "</tr>\n",
       "<tr>\n",
       "<td>1</td>\n",
       "<td>The Shawshank Redemption</td>\n",
       "<td>1994</td>\n",
       "<td>9.3</td>\n",
       "<td>Frank Darabont</td>\n",
       "<td>142</td>\n",
       "</tr>\n",
       "<tr>\n",
       "<td>2</td>\n",
       "<td>The Godfather</td>\n",
       "<td>1972</td>\n",
       "<td>9.2</td>\n",
       "<td>Francis Ford Coppola</td>\n",
       "<td>175</td>\n",
       "</tr>\n",
       "<tr>\n",
       "<td>3</td>\n",
       "<td>The Godfather: Part II</td>\n",
       "<td>1974</td>\n",
       "<td>9</td>\n",
       "<td>Francis Ford Coppola</td>\n",
       "<td>202</td>\n",
       "</tr>\n",
       "<tr>\n",
       "<td>4</td>\n",
       "<td>The Dark Knight</td>\n",
       "<td>2008</td>\n",
       "<td>9</td>\n",
       "<td>Christopher Nolan</td>\n",
       "<td>152</td>\n",
       "</tr>\n",
       "<tr>\n",
       "<td>5</td>\n",
       "<td>12 Angry Men</td>\n",
       "<td>1957</td>\n",
       "<td>9</td>\n",
       "<td>Sidney Lumet</td>\n",
       "<td>96</td>\n",
       "</tr>\n",
       "</table>\n",
       "5 rows in set (0.00 sec)"
      ],
      "text/plain": [
       "+----+--------------------------+--------------+--------+----------------------+---------+\n",
       "| id | title                    | release_year | rating | director             | runtime |\n",
       "+----+--------------------------+--------------+--------+----------------------+---------+\n",
       "| 1  | The Shawshank Redemption | 1994         | 9.3    | Frank Darabont       | 142     |\n",
       "+----+--------------------------+--------------+--------+----------------------+---------+\n",
       "| 2  | The Godfather            | 1972         | 9.2    | Francis Ford Coppola | 175     |\n",
       "+----+--------------------------+--------------+--------+----------------------+---------+\n",
       "| 3  | The Godfather: Part II   | 1974         | 9      | Francis Ford Coppola | 202     |\n",
       "+----+--------------------------+--------------+--------+----------------------+---------+\n",
       "| 4  | The Dark Knight          | 2008         | 9      | Christopher Nolan    | 152     |\n",
       "+----+--------------------------+--------------+--------+----------------------+---------+\n",
       "| 5  | 12 Angry Men             | 1957         | 9      | Sidney Lumet         | 96      |\n",
       "+----+--------------------------+--------------+--------+----------------------+---------+\n",
       "5 rows in set (0.00 sec)"
      ]
     },
     "execution_count": 2,
     "metadata": {},
     "output_type": "execute_result"
    }
   ],
   "source": [
    "SELECT *\n",
    "  FROM movies\n",
    " LIMIT 5;"
   ]
  }
 ],
 "metadata": {
  "kernelspec": {
   "display_name": "xsql",
   "language": "sqlite",
   "name": "xsql"
  },
  "language_info": {
   "codemirror_mode": "sql",
   "file_extension": "",
   "mimetype": "",
   "name": "mysql",
   "version": "0.1.0"
  }
 },
 "nbformat": 4,
 "nbformat_minor": 5
}
